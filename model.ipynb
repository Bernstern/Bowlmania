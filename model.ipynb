{
 "cells": [
  {
   "cell_type": "code",
   "execution_count": 2,
   "metadata": {},
   "outputs": [],
   "source": [
    "import warnings\n",
    "warnings.simplefilter(action='ignore', category=FutureWarning)\n",
    "\n",
    "import pandas as pd\n",
    "import numpy as np\n",
    "from fuzzywuzzy import process\n",
    "import matplotlib.pyplot as plt\n",
    "# import tensorflow as tf\n",
    "\n",
    "# Kaggle datasets used\n",
    "# https://www.kaggle.com/datasets/mattop/college-football-bowl-games-1902-2022\n",
    "# https://www.kaggle.com/datasets/jeffgallini/college-football-team-stats-2019?select=cfb17.csv\n",
    "# https://www.kaggle.com/datasets/thedevastator/analyzing-college-football-2022-wins-losses-rank?select=games2022.csv"
   ]
  },
  {
   "cell_type": "code",
   "execution_count": 3,
   "metadata": {},
   "outputs": [
    {
     "name": "stdout",
     "output_type": "stream",
     "text": [
      "Loading data/cfb13.csv\n",
      "Loading data/cfb14.csv\n",
      "Loading data/cfb15.csv\n",
      "Loading data/cfb16.csv\n",
      "Loading data/cfb17.csv\n",
      "Loading data/cfb18.csv\n",
      "Loading data/cfb19.csv\n",
      "Loading data/cfb20.csv\n",
      "Loading data/cfb21.csv\n",
      "Concatenating stats\n"
     ]
    }
   ],
   "source": [
    "def load_stats() -> pd.DataFrame:\n",
    "    stats_list = []\n",
    "    # TODO: Include 2022\n",
    "    for yr in range(13, 22):\n",
    "        print(f\"Loading data/cfb{yr}.csv\")\n",
    "        df = pd.read_csv(f'data/cfb{yr}.csv')\n",
    "\n",
    "        # Make sure there are no unnamed columns\n",
    "        df = df.loc[:, ~df.columns.str.contains('^Unnamed')]\n",
    "\n",
    "        # Add year column\n",
    "        df['year'] = yr\n",
    "\n",
    "        stats_list.append(df)\n",
    "\n",
    "    print(\"Concatenating stats\")\n",
    "\n",
    "    stats_df = pd.concat(stats_list, sort=False)\n",
    "    # Drop any columns that are have any missing values\n",
    "    stats_df = stats_df.dropna(axis=1, how='any')\n",
    "\n",
    "    assert \"Team\" in stats_df.columns, \"Team column not found\"\n",
    "\n",
    "    # Sanitize the stats data\n",
    "    # Remove the division from the team name\n",
    "    stats_df['Team'] = stats_df['Team'].str.replace(r'\\([^\\(\\)]*\\)$', '')\n",
    "\n",
    "    # Strip out spaces and special characters\n",
    "    stats_df['Team'] = stats_df['Team'].str.replace(r'[^a-zA-Z0-9\\(\\)]', '')\n",
    "\n",
    "    # Remove the banned columns\n",
    "    BANNED_COLUMNS = [\n",
    "        \"Time.of.Possession\",\n",
    "        \"Average.Time.of.Possession.per.Game\",\n",
    "    ]\n",
    "    stats_df = stats_df.drop(columns=BANNED_COLUMNS)\n",
    "\n",
    "\n",
    "    # Remove any commmas from the numbers\n",
    "    stats_df.replace(',','', regex=True, inplace=True)\n",
    "\n",
    "    # Output it to a csv for funs sake\n",
    "    stats_df.to_csv('stats.csv', index=False)\n",
    "\n",
    "    # Multi-index\n",
    "    stats_multi_df = stats_df.set_index(['year', 'Team'])\n",
    "    stats_multi_df.to_csv('stats_m.csv')\n",
    "    return stats_multi_df\n",
    "\n",
    "stats = load_stats()"
   ]
  },
  {
   "cell_type": "code",
   "execution_count": 4,
   "metadata": {},
   "outputs": [],
   "source": [
    "def load_training_data():\n",
    "    # Load up the all bowl games csv\n",
    "    bowl_games = pd.read_csv(\"data/all_bowl_games.csv\")\n",
    "\n",
    "    # see how many gamse were played in the last 9 years\n",
    "    bowl_games = bowl_games[bowl_games['year'] >= 2013]\n",
    "\n",
    "    # Write these back to a csv\n",
    "    bowl_games.to_csv('data/all_bowl_games.csv', index=False)\n",
    "\n",
    "    # Create a new dataframe with the columns we want\n",
    "    # training_data = pd.DataFrame(columns=['year', 'team1', 'team2', 'team1_win'] + [\"1_\" + col for col in team_data_cols] + [\"2_\" + col for col in team_data_cols])\n",
    "    columns = ['year', 'team0', 'team1', 'winning_team']\n",
    "    training_data = pd.DataFrame(columns=columns)\n",
    "\n",
    "    for i, row in bowl_games.iterrows():\n",
    "        year = row[\"year\"] % 100\n",
    "        if np.random.rand() > .5:\n",
    "            new_row = [\n",
    "                year, \n",
    "                row['winner_tie'],\n",
    "                row['loser_tie'],\n",
    "                0,\n",
    "            ]   \n",
    "        else:\n",
    "            new_row = [\n",
    "                year, \n",
    "                row['loser_tie'],\n",
    "                row['winner_tie'],\n",
    "                1,\n",
    "            ]\n",
    "        # Add the add the row to the training data\n",
    "        training_data.loc[len(training_data)] = new_row # type: ignore\n",
    "    training_data.to_csv('training_data.csv', index=False)\n",
    "    return training_data\n",
    "\n",
    "training_data = load_training_data()\n"
   ]
  },
  {
   "cell_type": "code",
   "execution_count": 5,
   "metadata": {},
   "outputs": [],
   "source": [
    "# Handle name fixing\n",
    "def fix_names(name) -> str:\n",
    "    custom_mapping = {\n",
    "        \"Texas Christian\": \"TCU\",\n",
    "        \"Army\": \"Army West Point\",\n",
    "        \"Middle Tennessee State\": \"Middle Tenn\",\n",
    "        \"Florida International\": \"FIU\",\n",
    "        \"Alabama-Birmingham\": \"UAB\",\n",
    "        \"Central Florida\": \"UCF\",\n",
    "        \"South Florida\": \"South Fla\",\n",
    "        \"Miami\": \"Miami (FL)\",\n",
    "        \"Connecticut\": \"UConn\",\n",
    "        \"North Carolina State\": \"NCState\",\n",
    "        \"Appalachian State\": \"App State\",\n",
    "        \"Bringham Young\": \"BYU\",\n",
    "        \"Brigham Young\": \"BYU\",\n",
    "        \"Southern Methodist\": \"SMU\",\n",
    "        \"Florida Atlantic\": \"Fla Atlantic\",\n",
    "        \"Northern Illinois\": \"NIU\",\n",
    "        \"Southern Michigan\": \"Southern Mich\",\n",
    "        \"Central Michigan\": \"Central Mich\",\n",
    "        \"Western Michigan\": \"Western Mich\",\n",
    "        \"Eastern Michigan\": \"Eastern Mich\",\n",
    "        \"Georgia Southern\": \"Ga Southern\",\n",
    "        \"Bowling Green State\": \"Bowling Green\",\n",
    "        \"Western Kentucky\": \"Western Ky\",\n",
    "        \"Louisiana State\": \"Louisiana\",\n",
    "        \"Colorado State\": \"Colorado\",\n",
    "        \"Utah State\": \"Utah\",\n",
    "        \"Texas-San Antonio\": \"UTSA\",\n",
    "        \"Texas A&M\": \"Texas AM\",\n",
    "        \"Southern Ole Miss\": \"Ole Miss\",\n",
    "        \"Nevada-Las Vegas\": \"UNLV\",\n",
    "        \"Texas-El Paso\": \"UTEP\",\n",
    "        \"New Mexico\": \"New Mexico State\",\n",
    "    }\n",
    "\n",
    "    # Check if the name is in the custom mapping\n",
    "    name = custom_mapping.get(name, name)\n",
    "\n",
    "    # Remove special characters\n",
    "    name = name.replace(r'[^a-zA-Z0-9\\(\\)]', '')\n",
    "\n",
    "    # Convert State to St\n",
    "    name = name.replace('State', 'St')\n",
    "\n",
    "    # Remove spaces\n",
    "    name = name.replace(' ', '')\n",
    "\n",
    "    return name"
   ]
  },
  {
   "cell_type": "code",
   "execution_count": 6,
   "metadata": {},
   "outputs": [
    {
     "name": "stdout",
     "output_type": "stream",
     "text": [
      "Done processing training data!\n"
     ]
    }
   ],
   "source": [
    "def teams_to_stats(stats, year, team0, team1):\n",
    "\n",
    "    team0 = fix_names(team0)\n",
    "    team1 = fix_names(team1)\n",
    "\n",
    "    # Check that the teams are in the stats\n",
    "    if team0 not in stats.loc[year].index:\n",
    "        # Find the closest name to the team\n",
    "        closest = process.extract(team0, stats.loc[year].index)[0]\n",
    "\n",
    "        raise Exception(f'{team0} not in stats for year {year} - did you mean {closest}?')\n",
    "\n",
    "    if team1 not in stats.loc[year].index:\n",
    "        closest = process.extract(team1, stats.loc[year].index)[0]\n",
    "\n",
    "        raise Exception(f'{team1} not in stats for year {year} - did you mean {closest}?')\n",
    "\n",
    "    # df = pd.concat([stats.loc[year,team0], stats.loc[year,team1]], axis=1)\n",
    "    # print(df.loc[:,(16,'Buffalo (MAC)')])\n",
    "    df = stats.loc[(year,[team0, team1]), :]\n",
    "    big_vector = list(df.iloc[0]) + list(df.iloc[1])\n",
    "    return big_vector\n",
    "\n",
    "converted_training_data = []\n",
    "\n",
    "# Create a df of new training data using the team_to_stats function with the input from the training data df\n",
    "for i, row in training_data.iterrows():\n",
    "    converted_training_data.append(teams_to_stats(stats, row['year'], row['team0'], row['team1']) + [row['winning_team']])\n",
    "\n",
    "print(\"Done processing training data!\")\n",
    "\n"
   ]
  },
  {
   "cell_type": "code",
   "execution_count": 7,
   "metadata": {},
   "outputs": [],
   "source": [
    "from sklearn.model_selection import train_test_split\n",
    "from sklearn.metrics import accuracy_score\n",
    "\n",
    "# Create a new dataframe with the columns we want, the last column is the winning team\n",
    "converted_training_data = pd.DataFrame(converted_training_data)\n",
    "\n",
    "# Convert every cell into a float\n",
    "converted_training_data = converted_training_data.astype(float)\n",
    "\n",
    "def split_data():\n",
    "    train = converted_training_data.copy()\n",
    "    X = train.iloc[:, :-1]\n",
    "    y = train.iloc[:, -1]\n",
    "\n",
    "    # Split the data into training and testing\n",
    "    return train_test_split(X, y, test_size=0.2)\n"
   ]
  },
  {
   "cell_type": "code",
   "execution_count": 8,
   "metadata": {},
   "outputs": [],
   "source": [
    "def validate(model):\n",
    "    # Run this model 100 times and average the accuracy\n",
    "    accuracies = []\n",
    "    for i in range(100):\n",
    "        accuracies.append(model())\n",
    "\n",
    "    print(f'Average accuracy: {np.mean(accuracies)}')"
   ]
  },
  {
   "cell_type": "code",
   "execution_count": 52,
   "metadata": {},
   "outputs": [
    {
     "name": "stderr",
     "output_type": "stream",
     "text": [
      "c:\\Python310\\lib\\site-packages\\numpy\\core\\_methods.py:164: VisibleDeprecationWarning: Creating an ndarray from ragged nested sequences (which is a list-or-tuple of lists-or-tuples-or ndarrays with different lengths or shapes) is deprecated. If you meant to do this, you must specify 'dtype=object' when creating the ndarray.\n",
      "  arr = asanyarray(a)\n"
     ]
    },
    {
     "ename": "UFuncTypeError",
     "evalue": "ufunc 'add' did not contain a loop with signature matching types (dtype('float64'), dtype('<U6')) -> None",
     "output_type": "error",
     "traceback": [
      "\u001b[1;31m---------------------------------------------------------------------------\u001b[0m",
      "\u001b[1;31mUFuncTypeError\u001b[0m                            Traceback (most recent call last)",
      "Cell \u001b[1;32mIn[52], line 31\u001b[0m\n\u001b[0;32m     28\u001b[0m     \u001b[39mfrom\u001b[39;00m \u001b[39msklearn\u001b[39;00m\u001b[39m.\u001b[39;00m\u001b[39mmetrics\u001b[39;00m \u001b[39mimport\u001b[39;00m accuracy_score\n\u001b[0;32m     29\u001b[0m     \u001b[39mreturn\u001b[39;00m accuracy_score(y_test, predictions), confidence\n\u001b[1;32m---> 31\u001b[0m validate(TransformerNB)\n\u001b[0;32m     32\u001b[0m \u001b[39m# Average accuracy: 0.6628125\u001b[39;00m\n",
      "Cell \u001b[1;32mIn[8], line 7\u001b[0m, in \u001b[0;36mvalidate\u001b[1;34m(model)\u001b[0m\n\u001b[0;32m      4\u001b[0m \u001b[39mfor\u001b[39;00m i \u001b[39min\u001b[39;00m \u001b[39mrange\u001b[39m(\u001b[39m100\u001b[39m):\n\u001b[0;32m      5\u001b[0m     accuracies\u001b[39m.\u001b[39mappend(model())\n\u001b[1;32m----> 7\u001b[0m \u001b[39mprint\u001b[39m(\u001b[39mf\u001b[39m\u001b[39m'\u001b[39m\u001b[39mAverage accuracy: \u001b[39m\u001b[39m{\u001b[39;00mnp\u001b[39m.\u001b[39;49mmean(accuracies)\u001b[39m}\u001b[39;00m\u001b[39m'\u001b[39m)\n",
      "File \u001b[1;32m<__array_function__ internals>:180\u001b[0m, in \u001b[0;36mmean\u001b[1;34m(*args, **kwargs)\u001b[0m\n",
      "File \u001b[1;32mc:\\Python310\\lib\\site-packages\\numpy\\core\\fromnumeric.py:3432\u001b[0m, in \u001b[0;36mmean\u001b[1;34m(a, axis, dtype, out, keepdims, where)\u001b[0m\n\u001b[0;32m   3429\u001b[0m     \u001b[39melse\u001b[39;00m:\n\u001b[0;32m   3430\u001b[0m         \u001b[39mreturn\u001b[39;00m mean(axis\u001b[39m=\u001b[39maxis, dtype\u001b[39m=\u001b[39mdtype, out\u001b[39m=\u001b[39mout, \u001b[39m*\u001b[39m\u001b[39m*\u001b[39mkwargs)\n\u001b[1;32m-> 3432\u001b[0m \u001b[39mreturn\u001b[39;00m _methods\u001b[39m.\u001b[39m_mean(a, axis\u001b[39m=\u001b[39maxis, dtype\u001b[39m=\u001b[39mdtype,\n\u001b[0;32m   3433\u001b[0m                       out\u001b[39m=\u001b[39mout, \u001b[39m*\u001b[39m\u001b[39m*\u001b[39mkwargs)\n",
      "File \u001b[1;32mc:\\Python310\\lib\\site-packages\\numpy\\core\\_methods.py:180\u001b[0m, in \u001b[0;36m_mean\u001b[1;34m(a, axis, dtype, out, keepdims, where)\u001b[0m\n\u001b[0;32m    177\u001b[0m         dtype \u001b[39m=\u001b[39m mu\u001b[39m.\u001b[39mdtype(\u001b[39m'\u001b[39m\u001b[39mf4\u001b[39m\u001b[39m'\u001b[39m)\n\u001b[0;32m    178\u001b[0m         is_float16_result \u001b[39m=\u001b[39m \u001b[39mTrue\u001b[39;00m\n\u001b[1;32m--> 180\u001b[0m ret \u001b[39m=\u001b[39m umr_sum(arr, axis, dtype, out, keepdims, where\u001b[39m=\u001b[39;49mwhere)\n\u001b[0;32m    181\u001b[0m \u001b[39mif\u001b[39;00m \u001b[39misinstance\u001b[39m(ret, mu\u001b[39m.\u001b[39mndarray):\n\u001b[0;32m    182\u001b[0m     ret \u001b[39m=\u001b[39m um\u001b[39m.\u001b[39mtrue_divide(\n\u001b[0;32m    183\u001b[0m             ret, rcount, out\u001b[39m=\u001b[39mret, casting\u001b[39m=\u001b[39m\u001b[39m'\u001b[39m\u001b[39munsafe\u001b[39m\u001b[39m'\u001b[39m, subok\u001b[39m=\u001b[39m\u001b[39mFalse\u001b[39;00m)\n",
      "\u001b[1;31mUFuncTypeError\u001b[0m: ufunc 'add' did not contain a loop with signature matching types (dtype('float64'), dtype('<U6')) -> None"
     ]
    }
   ],
   "source": [
    "# It is time to learn\n",
    "def TransformerNB(return_confidence=False):\n",
    "    from sklearn.naive_bayes import GaussianNB, MultinomialNB, BernoulliNB\n",
    "    from sklearn.preprocessing import StandardScaler, MinMaxScaler\n",
    "    from sklearn.model_selection import train_test_split\n",
    "\n",
    "    # Split the data into training and testing\n",
    "    X_train, X_test, y_train, y_test = split_data() \n",
    "\n",
    "    # Train the transformer\n",
    "    transformer = StandardScaler()\n",
    "    transformer.fit(X_train)\n",
    "\n",
    "    X_train_transformed = transformer.transform(X_train)\n",
    "    X_test_transformed = transformer.transform(X_test)\n",
    "\n",
    "    classifier = GaussianNB()\n",
    "    classifier.fit(X_train_transformed, y_train)\n",
    "    predictions = classifier.predict(X_test_transformed)\n",
    "    probs  = classifier.predict_proba(X_test_transformed)\n",
    "    confidence = probs[:, 1] * 100\n",
    "\n",
    "    # Conver the confidence into a list of percentages\n",
    "    confidence = [f'{round(x, 2)}%' for x in confidence]\n",
    "    # print(confidence)\n",
    "\n",
    "    # Calculate the accuracy\n",
    "    from sklearn.metrics import accuracy_score\n",
    "    if return_confidence:\n",
    "        return accuracy_score(y_test, predictions), confidence\n",
    "    else:\n",
    "        return accuracy_score(y_test, predictions)\n",
    "\n",
    "validate(TransformerNB)\n",
    "# Average accuracy: 0.6628125\n"
   ]
  },
  {
   "cell_type": "code",
   "execution_count": 10,
   "metadata": {},
   "outputs": [],
   "source": [
    "def ShallowNeuralNetwork():\n",
    "    from sklearn.neural_network import MLPClassifier\n",
    "    \n",
    "    X_train, X_test, y_train, y_test = split_data()\n",
    "    classifier = MLPClassifier(hidden_layer_sizes=(100, 100), activation='tanh')\n",
    "\n",
    "    classifier.fit(X_train, y_train)\n",
    "\n",
    "    predictions = classifier.predict(X_test)\n",
    "    return (accuracy_score(y_test, predictions))\n",
    "\n",
    "# validate(ShallowNeuralNetwork) \n",
    "# Average accuracy: 0.55515625"
   ]
  },
  {
   "cell_type": "code",
   "execution_count": 11,
   "metadata": {},
   "outputs": [],
   "source": [
    "def RandomForest():\n",
    "    from sklearn.ensemble import RandomForestClassifier\n",
    "\n",
    "    X_train, X_test, y_train, y_test = split_data()\n",
    "    classifier = RandomForestClassifier(n_estimators=100, max_depth=5)\n",
    "\n",
    "    classifier.fit(X_train, y_train)\n",
    "\n",
    "    predictions = classifier.predict(X_test)\n",
    "    return (accuracy_score(y_test, predictions))\n",
    "\n",
    "# validate(RandomForest)\n",
    "# Average accuracy: 0.65109375"
   ]
  },
  {
   "cell_type": "code",
   "execution_count": 12,
   "metadata": {},
   "outputs": [
    {
     "name": "stdout",
     "output_type": "stream",
     "text": [
      "Average accuracy: 0.614375\n"
     ]
    }
   ],
   "source": [
    "def TransformerDNN():\n",
    "    from sklearn.neural_network import MLPClassifier\n",
    "    from sklearn.preprocessing import StandardScaler, MinMaxScaler\n",
    "\n",
    "    # Split the data into training and testing\n",
    "    X_train, X_test, y_train, y_test = split_data() \n",
    "\n",
    "    # Train the transformer\n",
    "    transformer = StandardScaler()\n",
    "    transformer.fit(X_train)\n",
    "\n",
    "    X_train_transformed = transformer.transform(X_train)\n",
    "    X_test_transformed = transformer.transform(X_test)\n",
    "\n",
    "    classifier = MLPClassifier(hidden_layer_sizes=(100, 100), activation='relu')\n",
    "\n",
    "    classifier.fit(X_train_transformed, y_train)\n",
    "\n",
    "    predictions = classifier.predict(X_test_transformed)\n",
    "    return (accuracy_score(y_test, predictions))\n",
    "\n",
    "validate(TransformerDNN)"
   ]
  },
  {
   "cell_type": "code",
   "execution_count": 25,
   "metadata": {},
   "outputs": [
    {
     "name": "stdout",
     "output_type": "stream",
     "text": [
      "0.46875\n"
     ]
    }
   ],
   "source": [
    "# Use Spectral Embedding to reduce the dimensionality of the data\n",
    "from sklearn.neural_network import MLPClassifier\n",
    "\n",
    "\n",
    "def SpectralEmbedding():\n",
    "    from sklearn.manifold import LocallyLinearEmbedding\n",
    "\n",
    "    X_train, X_test, y_train, y_test = split_data()\n",
    "\n",
    "    embedding = LocallyLinearEmbedding()\n",
    "    X_train_transformed = embedding.fit_transform(X_train)\n",
    "    X_test_transformed = embedding.fit_transform(X_test)\n",
    "\n",
    "    classifier = MLPClassifier(hidden_layer_sizes=(100, 100), activation='relu')\n",
    "\n",
    "    classifier.fit(X_train_transformed, y_train)\n",
    "\n",
    "    predictions = classifier.predict(X_test_transformed)\n",
    "    return (accuracy_score(y_test, predictions))\n",
    "print(SpectralEmbedding())"
   ]
  },
  {
   "cell_type": "code",
   "execution_count": 27,
   "metadata": {},
   "outputs": [
    {
     "name": "stdout",
     "output_type": "stream",
     "text": [
      "Fitting 5 folds for each of 12 candidates, totalling 60 fits\n",
      "{'activation': 'relu', 'hidden_layer_sizes': (100,), 'solver': 'sgd'}\n",
      "0.675686274509804\n",
      "0.5\n"
     ]
    },
    {
     "name": "stderr",
     "output_type": "stream",
     "text": [
      "c:\\Python310\\lib\\site-packages\\sklearn\\neural_network\\_multilayer_perceptron.py:679: ConvergenceWarning: Stochastic Optimizer: Maximum iterations (200) reached and the optimization hasn't converged yet.\n",
      "  warnings.warn(\n"
     ]
    }
   ],
   "source": [
    "# Use GridSearchCV to find the best parameters for the model\n",
    "from sklearn.model_selection import GridSearchCV\n",
    "\n",
    "def GridSearch():\n",
    "    from sklearn.neural_network import MLPClassifier\n",
    "    from sklearn.preprocessing import StandardScaler, MinMaxScaler\n",
    "\n",
    "    # Split the data into training and testing\n",
    "    X_train, X_test, y_train, y_test = split_data() \n",
    "\n",
    "    # Train the transformer\n",
    "    transformer = StandardScaler()\n",
    "    transformer.fit(X_train)\n",
    "\n",
    "    X_train_transformed = transformer.transform(X_train)\n",
    "    X_test_transformed = transformer.transform(X_test)\n",
    "\n",
    "    classifier = MLPClassifier()\n",
    "\n",
    "    # Create a dictionary of all the parameters you want to tune\n",
    "    param_grid = {'hidden_layer_sizes': [(100, 100), (100, 100, 100), (100,)], 'activation': ['relu', 'tanh'], 'solver': ['adam', 'sgd']}\n",
    "\n",
    "    # Use gridsearch to test all the possible combinations of parameters\n",
    "    grid = GridSearchCV(classifier, param_grid, refit=True, verbose=3, n_jobs=-1)\n",
    "\n",
    "    # Fit the model to the data\n",
    "    grid.fit(X_train_transformed, y_train)\n",
    "\n",
    "    # Print the best parameters\n",
    "    print(grid.best_params_)\n",
    "\n",
    "    # Print the best score\n",
    "    print(grid.best_score_)\n",
    "\n",
    "    # Use the best parameters to make predictions\n",
    "    grid_predictions = grid.predict(X_test_transformed)\n",
    "\n",
    "    # Print the accuracy\n",
    "    print(accuracy_score(y_test, grid_predictions))\n",
    "GridSearch()"
   ]
  },
  {
   "cell_type": "code",
   "execution_count": 40,
   "metadata": {},
   "outputs": [
    {
     "name": "stdout",
     "output_type": "stream",
     "text": [
      "0.484375\n"
     ]
    }
   ],
   "source": [
    "# Use PCA to reduce the dimensionality of the data\n",
    "\n",
    "def pca():\n",
    "    from sklearn.decomposition import PCA\n",
    "    from sklearn.neural_network import MLPClassifier\n",
    "    from sklearn.preprocessing import StandardScaler, MinMaxScaler\n",
    "\n",
    "    # Split the data into training and testing\n",
    "    X_train, X_test, y_train, y_test = split_data() \n",
    "\n",
    "    pca = PCA(n_components=2)\n",
    "    X_train_transformed = pca.fit_transform(X_train)\n",
    "    X_test_transformed = pca.fit_transform(X_test)\n",
    "\n",
    "    # Train the transformer\n",
    "    transformer = StandardScaler()\n",
    "    transformer.fit(X_train_transformed)\n",
    "\n",
    "    classifier = MLPClassifier(hidden_layer_sizes=(100, 100), activation='relu')\n",
    "\n",
    "    classifier.fit(X_train_transformed, y_train)\n",
    "\n",
    "    predictions = classifier.predict(X_test_transformed)\n",
    "    return (accuracy_score(y_test, predictions))\n",
    "print(pca())"
   ]
  },
  {
   "cell_type": "code",
   "execution_count": null,
   "metadata": {},
   "outputs": [],
   "source": []
  }
 ],
 "metadata": {
  "kernelspec": {
   "display_name": "Python 3",
   "language": "python",
   "name": "python3"
  },
  "language_info": {
   "codemirror_mode": {
    "name": "ipython",
    "version": 3
   },
   "file_extension": ".py",
   "mimetype": "text/x-python",
   "name": "python",
   "nbconvert_exporter": "python",
   "pygments_lexer": "ipython3",
   "version": "3.10.0"
  },
  "orig_nbformat": 4,
  "vscode": {
   "interpreter": {
    "hash": "369f2c481f4da34e4445cda3fffd2e751bd1c4d706f27375911949ba6bb62e1c"
   }
  }
 },
 "nbformat": 4,
 "nbformat_minor": 2
}
