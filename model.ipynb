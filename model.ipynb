{
 "cells": [
  {
   "cell_type": "code",
   "execution_count": 71,
   "metadata": {},
   "outputs": [],
   "source": [
    "import warnings\n",
    "warnings.simplefilter(action='ignore', category=FutureWarning)\n",
    "\n",
    "import pandas as pd\n",
    "import numpy as np\n",
    "from fuzzywuzzy import process\n",
    "import matplotlib.pyplot as plt\n",
    "# import tensorflow as tf\n",
    "\n",
    "# Kaggle datasets used\n",
    "# https://www.kaggle.com/datasets/mattop/college-football-bowl-games-1902-2022\n",
    "# https://www.kaggle.com/datasets/jeffgallini/college-football-team-stats-2019?select=cfb17.csv\n",
    "# https://www.kaggle.com/datasets/thedevastator/analyzing-college-football-2022-wins-losses-rank?select=games2022.csv"
   ]
  },
  {
   "cell_type": "code",
   "execution_count": 143,
   "metadata": {},
   "outputs": [
    {
     "name": "stdout",
     "output_type": "stream",
     "text": [
      "Loading data/cfb13.csv\n",
      "Loading data/cfb14.csv\n",
      "Loading data/cfb15.csv\n",
      "Loading data/cfb16.csv\n",
      "Loading data/cfb17.csv\n",
      "Loading data/cfb18.csv\n",
      "Loading data/cfb19.csv\n",
      "Loading data/cfb20.csv\n",
      "Loading data/cfb21.csv\n",
      "Loading data/cfb22.csv\n",
      "Concatenating stats\n"
     ]
    }
   ],
   "source": [
    "def load_stats() -> pd.DataFrame:\n",
    "    stats_list = []\n",
    "    for yr in range(13, 23):\n",
    "        print(f\"Loading data/cfb{yr}.csv\")\n",
    "        df = pd.read_csv(f'data/cfb{yr}.csv')\n",
    "\n",
    "        # Make sure there are no unnamed columns\n",
    "        df = df.loc[:, ~df.columns.str.contains('^Unnamed')]\n",
    "\n",
    "        # Add year column\n",
    "        df['year'] = yr\n",
    "\n",
    "        stats_list.append(df)\n",
    "\n",
    "    print(\"Concatenating stats\")\n",
    "\n",
    "    stats_df = pd.concat(stats_list, sort=False)\n",
    "    # Drop any columns that are have any missing values\n",
    "    stats_df = stats_df.dropna(axis=1, how='any')\n",
    "\n",
    "    assert \"Team\" in stats_df.columns, \"Team column not found\"\n",
    "\n",
    "    # Sanitize the stats data\n",
    "    # Remove the division from the team name\n",
    "    stats_df['Team'] = stats_df['Team'].str.replace(r'\\([^\\(\\)]*\\)$', '')\n",
    "\n",
    "    # Strip out spaces and special characters\n",
    "    stats_df['Team'] = stats_df['Team'].str.replace(r'[^a-zA-Z0-9\\(\\)]', '')\n",
    "\n",
    "    # Remove the banned columns\n",
    "    BANNED_COLUMNS = [\n",
    "        \"Time.of.Possession\",\n",
    "        \"Average.Time.of.Possession.per.Game\",\n",
    "    ]\n",
    "    stats_df = stats_df.drop(columns=BANNED_COLUMNS)\n",
    "\n",
    "\n",
    "    # Remove any commmas from the numbers\n",
    "    stats_df.replace(',','', regex=True, inplace=True)\n",
    "\n",
    "    # Output it to a csv for funs sake\n",
    "    stats_df.to_csv('stats.csv', index=False)\n",
    "\n",
    "    # Multi-index\n",
    "    stats_multi_df = stats_df.set_index(['year', 'Team'])\n",
    "    stats_multi_df.to_csv('stats_m.csv')\n",
    "    return stats_multi_df\n",
    "\n",
    "stats = load_stats()"
   ]
  },
  {
   "cell_type": "code",
   "execution_count": 121,
   "metadata": {},
   "outputs": [],
   "source": [
    "def load_training_data():\n",
    "    # Load up the all bowl games csv\n",
    "    bowl_games = pd.read_csv(\"data/all_bowl_games.csv\")\n",
    "\n",
    "    # see how many gamse were played in the last 9 years\n",
    "    bowl_games = bowl_games[bowl_games['year'] >= 2013]\n",
    "\n",
    "    # Write these back to a csv\n",
    "    bowl_games.to_csv('data/all_bowl_games.csv', index=False)\n",
    "\n",
    "    # Create a new dataframe with the columns we want\n",
    "    # training_data = pd.DataFrame(columns=['year', 'team1', 'team2', 'team1_win'] + [\"1_\" + col for col in team_data_cols] + [\"2_\" + col for col in team_data_cols])\n",
    "    columns = ['year', 'team0', 'team1', 'winning_team']\n",
    "    training_data = pd.DataFrame(columns=columns)\n",
    "\n",
    "    for i, row in bowl_games.iterrows():\n",
    "        year = row[\"year\"] % 100\n",
    "        if np.random.rand() > .5:\n",
    "            new_row = [\n",
    "                year, \n",
    "                row['winner_tie'],\n",
    "                row['loser_tie'],\n",
    "                0,\n",
    "            ]   \n",
    "        else:\n",
    "            new_row = [\n",
    "                year, \n",
    "                row['loser_tie'],\n",
    "                row['winner_tie'],\n",
    "                1,\n",
    "            ]\n",
    "        # Add the add the row to the training data\n",
    "        training_data.loc[len(training_data)] = new_row # type: ignore\n",
    "    training_data.to_csv('training_data.csv', index=False)\n",
    "    return training_data\n",
    "\n",
    "training_data = load_training_data()\n"
   ]
  },
  {
   "cell_type": "code",
   "execution_count": 122,
   "metadata": {},
   "outputs": [],
   "source": [
    "# Handle name fixing\n",
    "def fix_names(name) -> str:\n",
    "    custom_mapping = {\n",
    "        \"Texas Christian\": \"TCU\",\n",
    "        \"Army\": \"Army West Point\",\n",
    "        \"Middle Tennessee State\": \"Middle Tenn\",\n",
    "        \"Florida International\": \"FIU\",\n",
    "        \"Alabama-Birmingham\": \"UAB\",\n",
    "        \"Central Florida\": \"UCF\",\n",
    "        \"South Florida\": \"South Fla\",\n",
    "        \"Miami\": \"Miami (FL)\",\n",
    "        \"Connecticut\": \"UConn\",\n",
    "        \"North Carolina State\": \"NCState\",\n",
    "        \"Appalachian State\": \"App State\",\n",
    "        \"Bringham Young\": \"BYU\",\n",
    "        \"Brigham Young\": \"BYU\",\n",
    "        \"Southern Methodist\": \"SMU\",\n",
    "        \"Florida Atlantic\": \"Fla Atlantic\",\n",
    "        \"Northern Illinois\": \"NIU\",\n",
    "        \"Southern Michigan\": \"Southern Mich\",\n",
    "        \"Central Michigan\": \"Central Mich\",\n",
    "        \"Western Michigan\": \"Western Mich\",\n",
    "        \"Eastern Michigan\": \"Eastern Mich\",\n",
    "        \"Georgia Southern\": \"Ga Southern\",\n",
    "        \"Bowling Green State\": \"Bowling Green\",\n",
    "        \"Western Kentucky\": \"Western Ky\",\n",
    "        \"Louisiana State\": \"Louisiana\",\n",
    "        \"Colorado State\": \"Colorado\",\n",
    "        \"Utah State\": \"Utah\",\n",
    "        \"Texas-San Antonio\": \"UTSA\",\n",
    "        \"Texas A&M\": \"Texas AM\",\n",
    "        \"Southern Ole Miss\": \"Ole Miss\",\n",
    "        \"Nevada-Las Vegas\": \"UNLV\",\n",
    "        \"Texas-El Paso\": \"UTEP\",\n",
    "        \"New Mexico\": \"New Mexico State\",\n",
    "    }\n",
    "\n",
    "    # Check if the name is in the custom mapping\n",
    "    name = custom_mapping.get(name, name)\n",
    "\n",
    "    # Remove special characters\n",
    "    name = name.replace(r'[^a-zA-Z0-9\\(\\)]', '')\n",
    "\n",
    "    # Convert State to St\n",
    "    name = name.replace('State', 'St')\n",
    "\n",
    "    # Remove spaces\n",
    "    name = name.replace(' ', '')\n",
    "\n",
    "    return name"
   ]
  },
  {
   "cell_type": "code",
   "execution_count": 123,
   "metadata": {},
   "outputs": [
    {
     "name": "stdout",
     "output_type": "stream",
     "text": [
      "Done processing training data!\n"
     ]
    }
   ],
   "source": [
    "def teams_to_stats(stats, year, team0, team1):\n",
    "\n",
    "    team0 = fix_names(team0)\n",
    "    team1 = fix_names(team1)\n",
    "\n",
    "    # Check that the teams are in the stats\n",
    "    if team0 not in stats.loc[year].index:\n",
    "        # Find the closest name to the team\n",
    "        closest = process.extract(team0, stats.loc[year].index)[0]\n",
    "\n",
    "        raise Exception(f'{team0} not in stats for year {year} - did you mean {closest}?')\n",
    "\n",
    "    if team1 not in stats.loc[year].index:\n",
    "        closest = process.extract(team1, stats.loc[year].index)[0]\n",
    "\n",
    "        raise Exception(f'{team1} not in stats for year {year} - did you mean {closest}?')\n",
    "\n",
    "    # df = pd.concat([stats.loc[year,team0], stats.loc[year,team1]], axis=1)\n",
    "    # print(df.loc[:,(16,'Buffalo (MAC)')])\n",
    "    df = stats.loc[(year,[team0, team1]), :]\n",
    "    big_vector = list(df.iloc[0]) + list(df.iloc[1])\n",
    "    return big_vector\n",
    "\n",
    "converted_training_data = []\n",
    "\n",
    "# Create a df of new training data using the team_to_stats function with the input from the training data df\n",
    "for i, row in training_data.iterrows():\n",
    "    converted_training_data.append(teams_to_stats(stats, row['year'], row['team0'], row['team1']) + [row['winning_team']])\n",
    "\n",
    "print(\"Done processing training data!\")\n",
    "\n"
   ]
  },
  {
   "cell_type": "code",
   "execution_count": 124,
   "metadata": {},
   "outputs": [],
   "source": [
    "from sklearn.model_selection import train_test_split\n",
    "from sklearn.metrics import accuracy_score\n",
    "\n",
    "# Create a new dataframe with the columns we want, the last column is the winning team\n",
    "converted_training_data = pd.DataFrame(converted_training_data)\n",
    "\n",
    "# Convert every cell into a float\n",
    "converted_training_data = converted_training_data.astype(float)\n",
    "\n",
    "def split_data():\n",
    "    train = converted_training_data.copy()\n",
    "    X = train.iloc[:, :-1]\n",
    "    y = train.iloc[:, -1]\n",
    "\n",
    "    # Split the data into training and testing\n",
    "    return train_test_split(X, y, test_size=0.2)\n"
   ]
  },
  {
   "cell_type": "code",
   "execution_count": 128,
   "metadata": {},
   "outputs": [
    {
     "name": "stdout",
     "output_type": "stream",
     "text": [
      "0.796875\n"
     ]
    }
   ],
   "source": [
    "# Going to go with \n",
    "from sklearn.naive_bayes import GaussianNB, MultinomialNB, BernoulliNB\n",
    "from sklearn.preprocessing import StandardScaler, MinMaxScaler\n",
    "from sklearn.model_selection import train_test_split\n",
    "import matplotlib.pyplot as plt\n",
    "\n",
    "# Split the data into training and testing\n",
    "X_train, X_test, y_train, y_test = split_data() \n",
    "\n",
    "# Train the transformer\n",
    "transformer = StandardScaler()\n",
    "transformer.fit(X_train)\n",
    "\n",
    "X_train_transformed = transformer.transform(X_train)\n",
    "X_test_transformed = transformer.transform(X_test)\n",
    "\n",
    "classifier = GaussianNB()\n",
    "\n",
    "# Check if there is a model.pickle file and prompt the user if they want to use it\n",
    "import os\n",
    "if os.path.isfile('model.pickle'):\n",
    "    use_model = input(\"Use model.pickle? (y/n): \")\n",
    "    if use_model == 'y':\n",
    "        import pickle\n",
    "        with open('model.pickle', 'rb') as f:\n",
    "            classifier = pickle.load(f)\n",
    "    else:\n",
    "        classifier.fit(X_train_transformed, y_train)\n",
    "\n",
    "predictions = classifier.predict(X_test_transformed)\n",
    "probs  = classifier.predict_proba(X_test_transformed)\n",
    "confidence = probs[:, 1] * 100\n",
    "\n",
    "# Calculate the accuracy\n",
    "from sklearn.metrics import accuracy_score\n",
    "print(accuracy_score(y_test, predictions))\n",
    "\n"
   ]
  },
  {
   "cell_type": "code",
   "execution_count": 135,
   "metadata": {},
   "outputs": [
    {
     "name": "stderr",
     "output_type": "stream",
     "text": [
      "No artists with labels found to put in legend.  Note that artists whose label start with an underscore are ignored when legend() is called with no argument.\n"
     ]
    },
    {
     "data": {
      "text/plain": [
       "(array([ 1.,  0.,  0.,  1.,  0.,  0.,  0.,  0.,  0.,  0.,  0.,  0.,  0.,\n",
       "         0.,  0.,  0.,  0.,  0.,  0., 11.]),\n",
       " array([ 58.89021411,  60.94570341,  63.0011927 ,  65.05668199,\n",
       "         67.11217129,  69.16766058,  71.22314988,  73.27863917,\n",
       "         75.33412847,  77.38961776,  79.44510706,  81.50059635,\n",
       "         83.55608564,  85.61157494,  87.66706423,  89.72255353,\n",
       "         91.77804282,  93.83353212,  95.88902141,  97.94451071,\n",
       "        100.        ]),\n",
       " <BarContainer object of 20 artists>)"
      ]
     },
     "execution_count": 135,
     "metadata": {},
     "output_type": "execute_result"
    },
    {
     "data": {
      "image/png": "[encoded data removed]",
      "text/plain": [
       "<Figure size 640x480 with 1 Axes>"
      ]
     },
     "metadata": {},
     "output_type": "display_data"
    }
   ],
   "source": [
    "\n",
    "# Because 50% is the baseline confidence, calculate the difference from 50%\n",
    "confidence = abs(confidence - 50) \n",
    "\n",
    "# Then double it so that the difference is between 0 and 100\n",
    "confidence = confidence * 2\n",
    "\n",
    "# Make two sets, confidence when we were right, and confidence when we were wrong\n",
    "correct_confidence = []\n",
    "incorrect_confidence = []\n",
    "\n",
    "# Get all the y_test values\n",
    "actual = y_test.values\n",
    "\n",
    "for i in range(len(predictions)):\n",
    "    if predictions[i] == actual[i]:\n",
    "        correct_confidence.append(confidence[i])\n",
    "    else:\n",
    "        incorrect_confidence.append(confidence[i])\n",
    "\n",
    "# Plot the confidence when we were right and when we were wrong\n",
    "plt.title('Training Confidence of Correct and Incorrect Predictions')\n",
    "plt.legend()\n",
    "plt.hist(correct_confidence, bins=20, alpha=0.5, label='Correct')\n",
    "plt.hist(incorrect_confidence, bins=20, alpha=0.5, label='Incorrect', color='red')"
   ]
  },
  {
   "cell_type": "code",
   "execution_count": 147,
   "metadata": {},
   "outputs": [],
   "source": [
    "# Save the weights of the model\n",
    "import pickle\n",
    "with open('model.pickle', 'wb') as f:\n",
    "    pickle.dump(classifier, f)"
   ]
  },
  {
   "cell_type": "code",
   "execution_count": 213,
   "metadata": {},
   "outputs": [],
   "source": [
    "import csv \n",
    "\n",
    "# Load up the data to predict\n",
    "def predict(games):\n",
    "    model_inputs = []\n",
    "    for row in games:\n",
    "        model_inputs.append(teams_to_stats(stats, 22, fix_names(row[0]), fix_names(row[1])))\n",
    "\n",
    "    # Convert the data into a dataframe\n",
    "    model_inputs = pd.DataFrame(model_inputs)\n",
    "\n",
    "    # Use the transformer to transform the data\n",
    "    model_inputs = transformer.transform(model_inputs)\n",
    " \n",
    "    # Predict the winner\n",
    "    predictions = classifier.predict(model_inputs)  \n",
    "    confidence = classifier.predict_proba(model_inputs)[:, 1] \n",
    "    return predictions, confidence\n",
    "\n",
    "def load_games(path):\n",
    "    with(open(path, 'r')) as f:\n",
    "        reader = csv.reader(f)\n",
    "        games = list(reader)\n",
    "    return games\n",
    "\n",
    "games = load_games(\"input/2022_games.csv\")\n",
    "predictions, confidence = predict(games)\n",
    "\n",
    "assert len(predictions) == len(confidence)"
   ]
  },
  {
   "cell_type": "code",
   "execution_count": 214,
   "metadata": {},
   "outputs": [],
   "source": [
    "# Ranking\n",
    "NumGames = 42\n",
    "\n",
    "def create_confidence_rankings(games, predictions, confidence):\n",
    "    rankings = []\n",
    "    for i in range(len(predictions)):\n",
    "        abs_conf = abs(confidence[i] - 0.5) \n",
    "\n",
    "        rankings.append((games[i], predictions[i], abs_conf))\n",
    "\n",
    "\n",
    "    rankings.sort(key=lambda x: x[2], reverse=True)\n",
    "    return rankings\n",
    "\n",
    "\n",
    "results = (create_confidence_rankings(games, predictions, confidence))"
   ]
  },
  {
   "cell_type": "code",
   "execution_count": 217,
   "metadata": {},
   "outputs": [],
   "source": [
    "# Convert this into a nice markdown table\n",
    "output_file = \"results.md\"\n",
    "with open(output_file, 'w') as f:\n",
    "    f.write(\"# 2022 Bowlmania Predictions\\n\\n\")\n",
    "    f.write(\"|Rank|Team 0|Team 1|\\n|:---:|:---:|:---:|\\n\")\n",
    "\n",
    "    for i in range(len(results)):\n",
    "        rank = NumGames - i\n",
    "\n",
    "        team_0 = results[i][0][0]\n",
    "        team_1 = results[i][0][1]\n",
    "\n",
    "        # Bold the winner's name\n",
    "        if results[i][1] == 1:\n",
    "            team_1 = f\"**{team_1}**\"\n",
    "        else:\n",
    "            team_0 = f\"**{team_0}**\"\n",
    "\n",
    "        f.write(f\"|{rank}|{team_0}|{team_1}|\\n\")\n",
    "\n"
   ]
  },
  {
   "cell_type": "code",
   "execution_count": 8,
   "metadata": {},
   "outputs": [],
   "source": [
    "def validate(model):\n",
    "    # Run this model 100 times and average the accuracy\n",
    "    accuracies = []\n",
    "    for i in range(100):\n",
    "        accuracies.append(model())\n",
    "\n",
    "    print(f'Average accuracy: {np.mean(accuracies)}')"
   ]
  },
  {
   "cell_type": "code",
   "execution_count": 53,
   "metadata": {},
   "outputs": [
    {
     "name": "stdout",
     "output_type": "stream",
     "text": [
      "Average accuracy: 0.65265625\n"
     ]
    }
   ],
   "source": [
    "# It is time to learn\n",
    "def TransformerNB(return_confidence=False):\n",
    "    from sklearn.naive_bayes import GaussianNB, MultinomialNB, BernoulliNB\n",
    "    from sklearn.preprocessing import StandardScaler, MinMaxScaler\n",
    "    from sklearn.model_selection import train_test_split\n",
    "\n",
    "    # Split the data into training and testing\n",
    "    X_train, X_test, y_train, y_test = split_data() \n",
    "\n",
    "    # Train the transformer\n",
    "    transformer = StandardScaler()\n",
    "    transformer.fit(X_train)\n",
    "\n",
    "    X_train_transformed = transformer.transform(X_train)\n",
    "    X_test_transformed = transformer.transform(X_test)\n",
    "\n",
    "    classifier = GaussianNB()\n",
    "    classifier.fit(X_train_transformed, y_train)\n",
    "    predictions = classifier.predict(X_test_transformed)\n",
    "    probs  = classifier.predict_proba(X_test_transformed)\n",
    "    confidence = probs[:, 1] * 100\n",
    "\n",
    "    # Calculate the accuracy\n",
    "    from sklearn.metrics import accuracy_score\n",
    "    if return_confidence:\n",
    "        return accuracy_score(y_test, predictions), confidence\n",
    "    else:\n",
    "        return accuracy_score(y_test, predictions)\n",
    "\n",
    "validate(TransformerNB)\n",
    "# Average accuracy: 0.6628125\n"
   ]
  },
  {
   "cell_type": "code",
   "execution_count": 10,
   "metadata": {},
   "outputs": [],
   "source": [
    "def ShallowNeuralNetwork():\n",
    "    from sklearn.neural_network import MLPClassifier\n",
    "    \n",
    "    X_train, X_test, y_train, y_test = split_data()\n",
    "    classifier = MLPClassifier(hidden_layer_sizes=(100, 100), activation='tanh')\n",
    "\n",
    "    classifier.fit(X_train, y_train)\n",
    "\n",
    "    predictions = classifier.predict(X_test)\n",
    "    return (accuracy_score(y_test, predictions))\n",
    "\n",
    "# validate(ShallowNeuralNetwork) \n",
    "# Average accuracy: 0.55515625"
   ]
  },
  {
   "cell_type": "code",
   "execution_count": 11,
   "metadata": {},
   "outputs": [],
   "source": [
    "def RandomForest():\n",
    "    from sklearn.ensemble import RandomForestClassifier\n",
    "\n",
    "    X_train, X_test, y_train, y_test = split_data()\n",
    "    classifier = RandomForestClassifier(n_estimators=100, max_depth=5)\n",
    "\n",
    "    classifier.fit(X_train, y_train)\n",
    "\n",
    "    predictions = classifier.predict(X_test)\n",
    "    return (accuracy_score(y_test, predictions))\n",
    "\n",
    "# validate(RandomForest)\n",
    "# Average accuracy: 0.65109375"
   ]
  },
  {
   "cell_type": "code",
   "execution_count": 12,
   "metadata": {},
   "outputs": [
    {
     "name": "stdout",
     "output_type": "stream",
     "text": [
      "Average accuracy: 0.614375\n"
     ]
    }
   ],
   "source": [
    "def TransformerDNN():\n",
    "    from sklearn.neural_network import MLPClassifier\n",
    "    from sklearn.preprocessing import StandardScaler, MinMaxScaler\n",
    "\n",
    "    # Split the data into training and testing\n",
    "    X_train, X_test, y_train, y_test = split_data() \n",
    "\n",
    "    # Train the transformer\n",
    "    transformer = StandardScaler()\n",
    "    transformer.fit(X_train)\n",
    "\n",
    "    X_train_transformed = transformer.transform(X_train)\n",
    "    X_test_transformed = transformer.transform(X_test)\n",
    "\n",
    "    classifier = MLPClassifier(hidden_layer_sizes=(100, 100), activation='relu')\n",
    "\n",
    "    classifier.fit(X_train_transformed, y_train)\n",
    "\n",
    "    predictions = classifier.predict(X_test_transformed)\n",
    "    return (accuracy_score(y_test, predictions))\n",
    "\n",
    "validate(TransformerDNN)"
   ]
  },
  {
   "cell_type": "code",
   "execution_count": 25,
   "metadata": {},
   "outputs": [
    {
     "name": "stdout",
     "output_type": "stream",
     "text": [
      "0.46875\n"
     ]
    }
   ],
   "source": [
    "# Use Spectral Embedding to reduce the dimensionality of the data\n",
    "from sklearn.neural_network import MLPClassifier\n",
    "\n",
    "\n",
    "def SpectralEmbedding():\n",
    "    from sklearn.manifold import LocallyLinearEmbedding\n",
    "\n",
    "    X_train, X_test, y_train, y_test = split_data()\n",
    "\n",
    "    embedding = LocallyLinearEmbedding()\n",
    "    X_train_transformed = embedding.fit_transform(X_train)\n",
    "    X_test_transformed = embedding.fit_transform(X_test)\n",
    "\n",
    "    classifier = MLPClassifier(hidden_layer_sizes=(100, 100), activation='relu')\n",
    "\n",
    "    classifier.fit(X_train_transformed, y_train)\n",
    "\n",
    "    predictions = classifier.predict(X_test_transformed)\n",
    "    return (accuracy_score(y_test, predictions))\n",
    "print(SpectralEmbedding())"
   ]
  },
  {
   "cell_type": "code",
   "execution_count": 27,
   "metadata": {},
   "outputs": [
    {
     "name": "stdout",
     "output_type": "stream",
     "text": [
      "Fitting 5 folds for each of 12 candidates, totalling 60 fits\n",
      "{'activation': 'relu', 'hidden_layer_sizes': (100,), 'solver': 'sgd'}\n",
      "0.675686274509804\n",
      "0.5\n"
     ]
    },
    {
     "name": "stderr",
     "output_type": "stream",
     "text": [
      "c:\\Python310\\lib\\site-packages\\sklearn\\neural_network\\_multilayer_perceptron.py:679: ConvergenceWarning: Stochastic Optimizer: Maximum iterations (200) reached and the optimization hasn't converged yet.\n",
      "  warnings.warn(\n"
     ]
    }
   ],
   "source": [
    "# Use GridSearchCV to find the best parameters for the model\n",
    "from sklearn.model_selection import GridSearchCV\n",
    "\n",
    "def GridSearch():\n",
    "    from sklearn.neural_network import MLPClassifier\n",
    "    from sklearn.preprocessing import StandardScaler, MinMaxScaler\n",
    "\n",
    "    # Split the data into training and testing\n",
    "    X_train, X_test, y_train, y_test = split_data() \n",
    "\n",
    "    # Train the transformer\n",
    "    transformer = StandardScaler()\n",
    "    transformer.fit(X_train)\n",
    "\n",
    "    X_train_transformed = transformer.transform(X_train)\n",
    "    X_test_transformed = transformer.transform(X_test)\n",
    "\n",
    "    classifier = MLPClassifier()\n",
    "\n",
    "    # Create a dictionary of all the parameters you want to tune\n",
    "    param_grid = {'hidden_layer_sizes': [(100, 100), (100, 100, 100), (100,)], 'activation': ['relu', 'tanh'], 'solver': ['adam', 'sgd']}\n",
    "\n",
    "    # Use gridsearch to test all the possible combinations of parameters\n",
    "    grid = GridSearchCV(classifier, param_grid, refit=True, verbose=3, n_jobs=-1)\n",
    "\n",
    "    # Fit the model to the data\n",
    "    grid.fit(X_train_transformed, y_train)\n",
    "\n",
    "    # Print the best parameters\n",
    "    print(grid.best_params_)\n",
    "\n",
    "    # Print the best score\n",
    "    print(grid.best_score_)\n",
    "\n",
    "    # Use the best parameters to make predictions\n",
    "    grid_predictions = grid.predict(X_test_transformed)\n",
    "\n",
    "    # Print the accuracy\n",
    "    print(accuracy_score(y_test, grid_predictions))\n",
    "GridSearch()"
   ]
  },
  {
   "cell_type": "code",
   "execution_count": 40,
   "metadata": {},
   "outputs": [
    {
     "name": "stdout",
     "output_type": "stream",
     "text": [
      "0.484375\n"
     ]
    }
   ],
   "source": [
    "# Use PCA to reduce the dimensionality of the data\n",
    "\n",
    "def pca():\n",
    "    from sklearn.decomposition import PCA\n",
    "    from sklearn.neural_network import MLPClassifier\n",
    "    from sklearn.preprocessing import StandardScaler, MinMaxScaler\n",
    "\n",
    "    # Split the data into training and testing\n",
    "    X_train, X_test, y_train, y_test = split_data() \n",
    "\n",
    "    pca = PCA(n_components=2)\n",
    "    X_train_transformed = pca.fit_transform(X_train)\n",
    "    X_test_transformed = pca.fit_transform(X_test)\n",
    "\n",
    "    # Train the transformer\n",
    "    transformer = StandardScaler()\n",
    "    transformer.fit(X_train_transformed)\n",
    "\n",
    "    classifier = MLPClassifier(hidden_layer_sizes=(100, 100), activation='relu')\n",
    "\n",
    "    classifier.fit(X_train_transformed, y_train)\n",
    "\n",
    "    predictions = classifier.predict(X_test_transformed)\n",
    "    return (accuracy_score(y_test, predictions))\n",
    "print(pca())"
   ]
  },
  {
   "cell_type": "code",
   "execution_count": null,
   "metadata": {},
   "outputs": [],
   "source": []
  }
 ],
 "metadata": {
  "kernelspec": {
   "display_name": "Python 3",
   "language": "python",
   "name": "python3"
  },
  "language_info": {
   "codemirror_mode": {
    "name": "ipython",
    "version": 3
   },
   "file_extension": ".py",
   "mimetype": "text/x-python",
   "name": "python",
   "nbconvert_exporter": "python",
   "pygments_lexer": "ipython3",
   "version": "3.10.0"
  },
  "orig_nbformat": 4,
  "vscode": {
   "interpreter": {
    "hash": "369f2c481f4da34e4445cda3fffd2e751bd1c4d706f27375911949ba6bb62e1c"
   }
  }
 },
 "nbformat": 4,
 "nbformat_minor": 2
}
